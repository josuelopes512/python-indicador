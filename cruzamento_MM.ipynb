{
 "cells": [
  {
   "cell_type": "code",
   "execution_count": 1,
   "metadata": {},
   "outputs": [],
   "source": [
    "import yfinance as yf\n",
    "import matplotlib.pyplot as plt\n",
    "import pandas_datareader as pdr\n",
    "import numpy as np\n",
    "import math as mt\n",
    "import pandas as pd\n",
    "import datetime"
   ]
  },
  {
   "cell_type": "code",
   "execution_count": 2,
   "metadata": {},
   "outputs": [],
   "source": [
    "data = pdr.get_data_yahoo('TSLA', start='2016-01-01', end='2020-10-01')"
   ]
  },
  {
   "cell_type": "code",
   "execution_count": 3,
   "metadata": {},
   "outputs": [
    {
     "data": {
      "text/plain": [
       "Index(['High', 'Low', 'Open', 'Close', 'Volume', 'Adj Close'], dtype='object')"
      ]
     },
     "execution_count": 3,
     "metadata": {},
     "output_type": "execute_result"
    }
   ],
   "source": [
    "data.columns"
   ]
  },
  {
   "cell_type": "code",
   "execution_count": 4,
   "metadata": {},
   "outputs": [],
   "source": [
    "def crossover_sinal(data, curto=15, longo=50):\n",
    "\n",
    "    # Média movel simples\n",
    "    data[f'SMA{curto}'] = data['Close'].rolling(curto).mean()\n",
    "    data[f'SMA{longo}'] = data['Close'].rolling(longo).mean()\n",
    "\n",
    "    # Média movel exponencial\n",
    "    data[f'EMA{curto}'] = data['Close'].ewm(span=curto).mean()\n",
    "    data[f'EMA{longo}'] = data['Close'].ewm(span=longo).mean()\n",
    "\n",
    "\n",
    "    data['Anterior'] = data[f'SMA{curto}'].shift(1) - data[f'SMA{longo}'].shift(1)\n",
    "    data['Atual'] = data[f'SMA{curto}'] - data[f'SMA{longo}']\n",
    "\n",
    "    data.loc[(data['Anterior']<0) & (data['Atual']>0), 'Compra'] = data['Close']\n",
    "    data.loc[(data['Anterior']>0) & (data['Atual']<0), 'Venda'] = data['Close']\n",
    "\n",
    "    data.loc[(data['Compra'].isna()),'Compra'] = 0\n",
    "    data.loc[0,'Compra'] = np.NaN\n",
    "\n",
    "    data.loc[(data['Venda'].isna()),'Venda'] = 0\n",
    "    data.loc[0,'Venda'] = np.NaN\n",
    "\n",
    "    columns = ['Close', f'SMA{curto}', f'SMA{longo}', f'EMA{curto}', f'EMA{longo}', 'Compra', 'Venda']\n",
    "    return data[columns].dropna()"
   ]
  },
  {
   "cell_type": "code",
   "execution_count": 5,
   "metadata": {},
   "outputs": [
    {
     "data": {
      "text/html": [
       "<div>\n",
       "<style scoped>\n",
       "    .dataframe tbody tr th:only-of-type {\n",
       "        vertical-align: middle;\n",
       "    }\n",
       "\n",
       "    .dataframe tbody tr th {\n",
       "        vertical-align: top;\n",
       "    }\n",
       "\n",
       "    .dataframe thead th {\n",
       "        text-align: right;\n",
       "    }\n",
       "</style>\n",
       "<table border=\"1\" class=\"dataframe\">\n",
       "  <thead>\n",
       "    <tr style=\"text-align: right;\">\n",
       "      <th></th>\n",
       "      <th>Close</th>\n",
       "      <th>SMA15</th>\n",
       "      <th>SMA50</th>\n",
       "      <th>EMA15</th>\n",
       "      <th>EMA50</th>\n",
       "      <th>Compra</th>\n",
       "      <th>Venda</th>\n",
       "    </tr>\n",
       "    <tr>\n",
       "      <th>Date</th>\n",
       "      <th></th>\n",
       "      <th></th>\n",
       "      <th></th>\n",
       "      <th></th>\n",
       "      <th></th>\n",
       "      <th></th>\n",
       "      <th></th>\n",
       "    </tr>\n",
       "  </thead>\n",
       "  <tbody>\n",
       "    <tr>\n",
       "      <th>2020-09-25 00:00:00</th>\n",
       "      <td>407.339996</td>\n",
       "      <td>405.646667</td>\n",
       "      <td>366.179679</td>\n",
       "      <td>410.274058</td>\n",
       "      <td>366.510611</td>\n",
       "      <td>0.0</td>\n",
       "      <td>0.0</td>\n",
       "    </tr>\n",
       "    <tr>\n",
       "      <th>2020-09-28 00:00:00</th>\n",
       "      <td>421.200012</td>\n",
       "      <td>405.838668</td>\n",
       "      <td>368.600319</td>\n",
       "      <td>411.639802</td>\n",
       "      <td>368.655294</td>\n",
       "      <td>0.0</td>\n",
       "      <td>0.0</td>\n",
       "    </tr>\n",
       "    <tr>\n",
       "      <th>2020-09-29 00:00:00</th>\n",
       "      <td>419.070007</td>\n",
       "      <td>411.762669</td>\n",
       "      <td>370.409719</td>\n",
       "      <td>412.568578</td>\n",
       "      <td>370.632341</td>\n",
       "      <td>0.0</td>\n",
       "      <td>0.0</td>\n",
       "    </tr>\n",
       "    <tr>\n",
       "      <th>2020-09-30 00:00:00</th>\n",
       "      <td>429.010010</td>\n",
       "      <td>415.944670</td>\n",
       "      <td>372.716479</td>\n",
       "      <td>414.623757</td>\n",
       "      <td>372.921662</td>\n",
       "      <td>0.0</td>\n",
       "      <td>0.0</td>\n",
       "    </tr>\n",
       "    <tr>\n",
       "      <th>2020-10-01 00:00:00</th>\n",
       "      <td>448.160004</td>\n",
       "      <td>421.066003</td>\n",
       "      <td>375.310359</td>\n",
       "      <td>418.815787</td>\n",
       "      <td>375.872185</td>\n",
       "      <td>0.0</td>\n",
       "      <td>0.0</td>\n",
       "    </tr>\n",
       "  </tbody>\n",
       "</table>\n",
       "</div>"
      ],
      "text/plain": [
       "                          Close       SMA15       SMA50       EMA15  \\\n",
       "Date                                                                  \n",
       "2020-09-25 00:00:00  407.339996  405.646667  366.179679  410.274058   \n",
       "2020-09-28 00:00:00  421.200012  405.838668  368.600319  411.639802   \n",
       "2020-09-29 00:00:00  419.070007  411.762669  370.409719  412.568578   \n",
       "2020-09-30 00:00:00  429.010010  415.944670  372.716479  414.623757   \n",
       "2020-10-01 00:00:00  448.160004  421.066003  375.310359  418.815787   \n",
       "\n",
       "                          EMA50  Compra  Venda  \n",
       "Date                                            \n",
       "2020-09-25 00:00:00  366.510611     0.0    0.0  \n",
       "2020-09-28 00:00:00  368.655294     0.0    0.0  \n",
       "2020-09-29 00:00:00  370.632341     0.0    0.0  \n",
       "2020-09-30 00:00:00  372.921662     0.0    0.0  \n",
       "2020-10-01 00:00:00  375.872185     0.0    0.0  "
      ]
     },
     "execution_count": 5,
     "metadata": {},
     "output_type": "execute_result"
    }
   ],
   "source": [
    "output_df = crossover_sinal(data)\n",
    "output_df.tail()"
   ]
  },
  {
   "cell_type": "code",
   "execution_count": 6,
   "metadata": {},
   "outputs": [],
   "source": [
    "start = pd.to_datetime(\"2019-01-01\").date()\n",
    "end = pd.to_datetime(\"2020-12-01\").date()"
   ]
  },
  {
   "cell_type": "code",
   "execution_count": 7,
   "metadata": {},
   "outputs": [],
   "source": [
    "filterted_data = output_df.copy()\n",
    "filterted_data.index = [pd.Timestamp(i).date() for i in filterted_data.index]\n",
    "a = (filterted_data.index >= start)&(filterted_data.index < end)\n",
    "filterted_data = filterted_data.loc[a]"
   ]
  },
  {
   "cell_type": "code",
   "execution_count": 9,
   "metadata": {},
   "outputs": [
    {
     "data": {
      "text/plain": [
       "Text(0.5, 0, 'Data')"
      ]
     },
     "execution_count": 9,
     "metadata": {},
     "output_type": "execute_result"
    },
    {
     "data": {
      "image/png": "[encoded data removed]",
      "text/plain": [
       "<Figure size 432x288 with 1 Axes>"
      ]
     },
     "metadata": {
      "needs_background": "light"
     },
     "output_type": "display_data"
    }
   ],
   "source": [
    "fig, ax = plt.subplots()\n",
    "ax.plot(filterted_data.index, filterted_data['Close'], label='Close', alpha=0.5)\n",
    "ax.plot(filterted_data.index, filterted_data['SMA15'], label='SMA15', color='orange')\n",
    "ax.plot(filterted_data.index, filterted_data['SMA50'], label='SMA50', color='brown')\n",
    "\n",
    "ax.scatter(filterted_data.index, filterted_data['Compra'], marker='^', label='Compra', color='green')\n",
    "ax.scatter(filterted_data.index, filterted_data['Venda'], marker='v', label='Venda', color='red')\n",
    "\n",
    "fig.autofmt_xdate()\n",
    "ax.legend()\n",
    "\n",
    "ax.yaxis.set_major_formatter('${x:}')\n",
    "ax.set_title('Médias Moveis')\n",
    "ax.set_xlabel('Data')\n"
   ]
  },
  {
   "cell_type": "code",
   "execution_count": 10,
   "metadata": {},
   "outputs": [
    {
     "data": {
      "text/plain": [
       "Text(0.5, 0, 'Data')"
      ]
     },
     "execution_count": 10,
     "metadata": {},
     "output_type": "execute_result"
    },
    {
     "data": {
      "image/png": "[encoded data removed]",
      "text/plain": [
       "<Figure size 432x288 with 1 Axes>"
      ]
     },
     "metadata": {
      "needs_background": "light"
     },
     "output_type": "display_data"
    }
   ],
   "source": [
    "fig, ax = plt.subplots()\n",
    "ax.plot(filterted_data.index, filterted_data['Close'], label='Close', alpha=0.5)\n",
    "ax.plot(filterted_data.index, filterted_data['EMA15'], label='EMA15', color='orange')\n",
    "ax.plot(filterted_data.index, filterted_data['EMA50'], label='EMA50', color='brown')\n",
    "\n",
    "ax.scatter(filterted_data.index, filterted_data['Compra'], marker='^', label='Compra', color='green')\n",
    "ax.scatter(filterted_data.index, filterted_data['Venda'], marker='v', label='Venda', color='red')\n",
    "\n",
    "fig.autofmt_xdate()\n",
    "ax.legend()\n",
    "\n",
    "ax.yaxis.set_major_formatter('${x:}')\n",
    "ax.set_title('Médias Moveis')\n",
    "ax.set_xlabel('Data')"
   ]
  },
  {
   "cell_type": "code",
   "execution_count": 11,
   "metadata": {},
   "outputs": [
    {
     "data": {
      "text/html": [
       "<div>\n",
       "<style scoped>\n",
       "    .dataframe tbody tr th:only-of-type {\n",
       "        vertical-align: middle;\n",
       "    }\n",
       "\n",
       "    .dataframe tbody tr th {\n",
       "        vertical-align: top;\n",
       "    }\n",
       "\n",
       "    .dataframe thead th {\n",
       "        text-align: right;\n",
       "    }\n",
       "</style>\n",
       "<table border=\"1\" class=\"dataframe\">\n",
       "  <thead>\n",
       "    <tr style=\"text-align: right;\">\n",
       "      <th></th>\n",
       "      <th>Close</th>\n",
       "      <th>SMA15</th>\n",
       "      <th>SMA50</th>\n",
       "      <th>EMA15</th>\n",
       "      <th>EMA50</th>\n",
       "      <th>Compra</th>\n",
       "      <th>Venda</th>\n",
       "    </tr>\n",
       "  </thead>\n",
       "  <tbody>\n",
       "    <tr>\n",
       "      <th>2020-09-25</th>\n",
       "      <td>407.339996</td>\n",
       "      <td>405.646667</td>\n",
       "      <td>366.179679</td>\n",
       "      <td>410.274058</td>\n",
       "      <td>366.510611</td>\n",
       "      <td>0.0</td>\n",
       "      <td>0.0</td>\n",
       "    </tr>\n",
       "    <tr>\n",
       "      <th>2020-09-28</th>\n",
       "      <td>421.200012</td>\n",
       "      <td>405.838668</td>\n",
       "      <td>368.600319</td>\n",
       "      <td>411.639802</td>\n",
       "      <td>368.655294</td>\n",
       "      <td>0.0</td>\n",
       "      <td>0.0</td>\n",
       "    </tr>\n",
       "    <tr>\n",
       "      <th>2020-09-29</th>\n",
       "      <td>419.070007</td>\n",
       "      <td>411.762669</td>\n",
       "      <td>370.409719</td>\n",
       "      <td>412.568578</td>\n",
       "      <td>370.632341</td>\n",
       "      <td>0.0</td>\n",
       "      <td>0.0</td>\n",
       "    </tr>\n",
       "    <tr>\n",
       "      <th>2020-09-30</th>\n",
       "      <td>429.010010</td>\n",
       "      <td>415.944670</td>\n",
       "      <td>372.716479</td>\n",
       "      <td>414.623757</td>\n",
       "      <td>372.921662</td>\n",
       "      <td>0.0</td>\n",
       "      <td>0.0</td>\n",
       "    </tr>\n",
       "    <tr>\n",
       "      <th>2020-10-01</th>\n",
       "      <td>448.160004</td>\n",
       "      <td>421.066003</td>\n",
       "      <td>375.310359</td>\n",
       "      <td>418.815787</td>\n",
       "      <td>375.872185</td>\n",
       "      <td>0.0</td>\n",
       "      <td>0.0</td>\n",
       "    </tr>\n",
       "  </tbody>\n",
       "</table>\n",
       "</div>"
      ],
      "text/plain": [
       "                 Close       SMA15       SMA50       EMA15       EMA50  \\\n",
       "2020-09-25  407.339996  405.646667  366.179679  410.274058  366.510611   \n",
       "2020-09-28  421.200012  405.838668  368.600319  411.639802  368.655294   \n",
       "2020-09-29  419.070007  411.762669  370.409719  412.568578  370.632341   \n",
       "2020-09-30  429.010010  415.944670  372.716479  414.623757  372.921662   \n",
       "2020-10-01  448.160004  421.066003  375.310359  418.815787  375.872185   \n",
       "\n",
       "            Compra  Venda  \n",
       "2020-09-25     0.0    0.0  \n",
       "2020-09-28     0.0    0.0  \n",
       "2020-09-29     0.0    0.0  \n",
       "2020-09-30     0.0    0.0  \n",
       "2020-10-01     0.0    0.0  "
      ]
     },
     "execution_count": 11,
     "metadata": {},
     "output_type": "execute_result"
    }
   ],
   "source": [
    "filterted_data.tail()"
   ]
  },
  {
   "cell_type": "markdown",
   "metadata": {},
   "source": [
    "### Calcular Variação do Valor do Dia Anterior"
   ]
  },
  {
   "cell_type": "code",
   "execution_count": 12,
   "metadata": {},
   "outputs": [],
   "source": [
    "filterted_data['variacao'] = filterted_data['Close'] - filterted_data['Close'].shift(1)"
   ]
  },
  {
   "cell_type": "code",
   "execution_count": 14,
   "metadata": {},
   "outputs": [
    {
     "data": {
      "text/html": [
       "<div>\n",
       "<style scoped>\n",
       "    .dataframe tbody tr th:only-of-type {\n",
       "        vertical-align: middle;\n",
       "    }\n",
       "\n",
       "    .dataframe tbody tr th {\n",
       "        vertical-align: top;\n",
       "    }\n",
       "\n",
       "    .dataframe thead th {\n",
       "        text-align: right;\n",
       "    }\n",
       "</style>\n",
       "<table border=\"1\" class=\"dataframe\">\n",
       "  <thead>\n",
       "    <tr style=\"text-align: right;\">\n",
       "      <th></th>\n",
       "      <th>Close</th>\n",
       "      <th>SMA15</th>\n",
       "      <th>SMA50</th>\n",
       "      <th>EMA15</th>\n",
       "      <th>EMA50</th>\n",
       "      <th>Compra</th>\n",
       "      <th>Venda</th>\n",
       "      <th>variacao</th>\n",
       "    </tr>\n",
       "  </thead>\n",
       "  <tbody>\n",
       "    <tr>\n",
       "      <th>2020-09-25</th>\n",
       "      <td>407.339996</td>\n",
       "      <td>405.646667</td>\n",
       "      <td>366.179679</td>\n",
       "      <td>410.274058</td>\n",
       "      <td>366.510611</td>\n",
       "      <td>0.0</td>\n",
       "      <td>0.0</td>\n",
       "      <td>19.549988</td>\n",
       "    </tr>\n",
       "    <tr>\n",
       "      <th>2020-09-28</th>\n",
       "      <td>421.200012</td>\n",
       "      <td>405.838668</td>\n",
       "      <td>368.600319</td>\n",
       "      <td>411.639802</td>\n",
       "      <td>368.655294</td>\n",
       "      <td>0.0</td>\n",
       "      <td>0.0</td>\n",
       "      <td>13.860016</td>\n",
       "    </tr>\n",
       "    <tr>\n",
       "      <th>2020-09-29</th>\n",
       "      <td>419.070007</td>\n",
       "      <td>411.762669</td>\n",
       "      <td>370.409719</td>\n",
       "      <td>412.568578</td>\n",
       "      <td>370.632341</td>\n",
       "      <td>0.0</td>\n",
       "      <td>0.0</td>\n",
       "      <td>-2.130005</td>\n",
       "    </tr>\n",
       "    <tr>\n",
       "      <th>2020-09-30</th>\n",
       "      <td>429.010010</td>\n",
       "      <td>415.944670</td>\n",
       "      <td>372.716479</td>\n",
       "      <td>414.623757</td>\n",
       "      <td>372.921662</td>\n",
       "      <td>0.0</td>\n",
       "      <td>0.0</td>\n",
       "      <td>9.940002</td>\n",
       "    </tr>\n",
       "    <tr>\n",
       "      <th>2020-10-01</th>\n",
       "      <td>448.160004</td>\n",
       "      <td>421.066003</td>\n",
       "      <td>375.310359</td>\n",
       "      <td>418.815787</td>\n",
       "      <td>375.872185</td>\n",
       "      <td>0.0</td>\n",
       "      <td>0.0</td>\n",
       "      <td>19.149994</td>\n",
       "    </tr>\n",
       "  </tbody>\n",
       "</table>\n",
       "</div>"
      ],
      "text/plain": [
       "                 Close       SMA15       SMA50       EMA15       EMA50  \\\n",
       "2020-09-25  407.339996  405.646667  366.179679  410.274058  366.510611   \n",
       "2020-09-28  421.200012  405.838668  368.600319  411.639802  368.655294   \n",
       "2020-09-29  419.070007  411.762669  370.409719  412.568578  370.632341   \n",
       "2020-09-30  429.010010  415.944670  372.716479  414.623757  372.921662   \n",
       "2020-10-01  448.160004  421.066003  375.310359  418.815787  375.872185   \n",
       "\n",
       "            Compra  Venda   variacao  \n",
       "2020-09-25     0.0    0.0  19.549988  \n",
       "2020-09-28     0.0    0.0  13.860016  \n",
       "2020-09-29     0.0    0.0  -2.130005  \n",
       "2020-09-30     0.0    0.0   9.940002  \n",
       "2020-10-01     0.0    0.0  19.149994  "
      ]
     },
     "execution_count": 14,
     "metadata": {},
     "output_type": "execute_result"
    }
   ],
   "source": [
    "filterted_data.tail()"
   ]
  },
  {
   "cell_type": "markdown",
   "metadata": {},
   "source": [
    "### Identificar/Separar entre periodos de ganho e perda"
   ]
  },
  {
   "cell_type": "code",
   "execution_count": 15,
   "metadata": {},
   "outputs": [],
   "source": [
    "#ganho\n",
    "filterted_data['ganho'] = filterted_data.loc[filterted_data['variacao']>0,'variacao'].apply(abs)\n",
    "filterted_data.loc[(filterted_data['ganho'].isna()),'ganho'] = 0\n",
    "filterted_data.loc[0,'ganho'] = np.NaN\n",
    "\n",
    "#perda\n",
    "filterted_data['perda'] = filterted_data.loc[filterted_data['variacao']<0,'variacao'].apply(abs)\n",
    "filterted_data.loc[(filterted_data['perda'].isna()),'perda'] = 0\n",
    "filterted_data.loc[0,'perda'] = np.NaN"
   ]
  },
  {
   "cell_type": "code",
   "execution_count": 16,
   "metadata": {},
   "outputs": [
    {
     "data": {
      "text/html": [
       "<div>\n",
       "<style scoped>\n",
       "    .dataframe tbody tr th:only-of-type {\n",
       "        vertical-align: middle;\n",
       "    }\n",
       "\n",
       "    .dataframe tbody tr th {\n",
       "        vertical-align: top;\n",
       "    }\n",
       "\n",
       "    .dataframe thead th {\n",
       "        text-align: right;\n",
       "    }\n",
       "</style>\n",
       "<table border=\"1\" class=\"dataframe\">\n",
       "  <thead>\n",
       "    <tr style=\"text-align: right;\">\n",
       "      <th></th>\n",
       "      <th>Close</th>\n",
       "      <th>SMA15</th>\n",
       "      <th>SMA50</th>\n",
       "      <th>EMA15</th>\n",
       "      <th>EMA50</th>\n",
       "      <th>Compra</th>\n",
       "      <th>Venda</th>\n",
       "      <th>variacao</th>\n",
       "      <th>ganho</th>\n",
       "      <th>perda</th>\n",
       "    </tr>\n",
       "  </thead>\n",
       "  <tbody>\n",
       "    <tr>\n",
       "      <th>2020-09-28</th>\n",
       "      <td>421.200012</td>\n",
       "      <td>405.838668</td>\n",
       "      <td>368.600319</td>\n",
       "      <td>411.639802</td>\n",
       "      <td>368.655294</td>\n",
       "      <td>0.0</td>\n",
       "      <td>0.0</td>\n",
       "      <td>13.860016</td>\n",
       "      <td>13.860016</td>\n",
       "      <td>0.000000</td>\n",
       "    </tr>\n",
       "    <tr>\n",
       "      <th>2020-09-29</th>\n",
       "      <td>419.070007</td>\n",
       "      <td>411.762669</td>\n",
       "      <td>370.409719</td>\n",
       "      <td>412.568578</td>\n",
       "      <td>370.632341</td>\n",
       "      <td>0.0</td>\n",
       "      <td>0.0</td>\n",
       "      <td>-2.130005</td>\n",
       "      <td>0.000000</td>\n",
       "      <td>2.130005</td>\n",
       "    </tr>\n",
       "    <tr>\n",
       "      <th>2020-09-30</th>\n",
       "      <td>429.010010</td>\n",
       "      <td>415.944670</td>\n",
       "      <td>372.716479</td>\n",
       "      <td>414.623757</td>\n",
       "      <td>372.921662</td>\n",
       "      <td>0.0</td>\n",
       "      <td>0.0</td>\n",
       "      <td>9.940002</td>\n",
       "      <td>9.940002</td>\n",
       "      <td>0.000000</td>\n",
       "    </tr>\n",
       "    <tr>\n",
       "      <th>2020-10-01</th>\n",
       "      <td>448.160004</td>\n",
       "      <td>421.066003</td>\n",
       "      <td>375.310359</td>\n",
       "      <td>418.815787</td>\n",
       "      <td>375.872185</td>\n",
       "      <td>0.0</td>\n",
       "      <td>0.0</td>\n",
       "      <td>19.149994</td>\n",
       "      <td>19.149994</td>\n",
       "      <td>0.000000</td>\n",
       "    </tr>\n",
       "    <tr>\n",
       "      <th>0</th>\n",
       "      <td>NaN</td>\n",
       "      <td>NaN</td>\n",
       "      <td>NaN</td>\n",
       "      <td>NaN</td>\n",
       "      <td>NaN</td>\n",
       "      <td>NaN</td>\n",
       "      <td>NaN</td>\n",
       "      <td>NaN</td>\n",
       "      <td>NaN</td>\n",
       "      <td>NaN</td>\n",
       "    </tr>\n",
       "  </tbody>\n",
       "</table>\n",
       "</div>"
      ],
      "text/plain": [
       "                 Close       SMA15       SMA50       EMA15       EMA50  \\\n",
       "2020-09-28  421.200012  405.838668  368.600319  411.639802  368.655294   \n",
       "2020-09-29  419.070007  411.762669  370.409719  412.568578  370.632341   \n",
       "2020-09-30  429.010010  415.944670  372.716479  414.623757  372.921662   \n",
       "2020-10-01  448.160004  421.066003  375.310359  418.815787  375.872185   \n",
       "0                  NaN         NaN         NaN         NaN         NaN   \n",
       "\n",
       "            Compra  Venda   variacao      ganho     perda  \n",
       "2020-09-28     0.0    0.0  13.860016  13.860016  0.000000  \n",
       "2020-09-29     0.0    0.0  -2.130005   0.000000  2.130005  \n",
       "2020-09-30     0.0    0.0   9.940002   9.940002  0.000000  \n",
       "2020-10-01     0.0    0.0  19.149994  19.149994  0.000000  \n",
       "0              NaN    NaN        NaN        NaN       NaN  "
      ]
     },
     "execution_count": 16,
     "metadata": {},
     "output_type": "execute_result"
    }
   ],
   "source": [
    "filterted_data.tail()"
   ]
  },
  {
   "cell_type": "markdown",
   "metadata": {},
   "source": [
    "### Calcular Média Movel (Ganhos e Perdas)"
   ]
  },
  {
   "cell_type": "code",
   "execution_count": 18,
   "metadata": {},
   "outputs": [],
   "source": [
    "periodo = 14\n",
    "filterted_data['avg_ganho'] = filterted_data['ganho'].rolling(periodo).mean()\n",
    "filterted_data['avg_perda'] = filterted_data['perda'].rolling(periodo).mean()"
   ]
  },
  {
   "cell_type": "code",
   "execution_count": 26,
   "metadata": {},
   "outputs": [],
   "source": [
    "first = filterted_data['avg_ganho'].first_valid_index()\n",
    "#print(first)\n",
    "for index,row in filterted_data.iterrows():\n",
    "  index = pd.Timestamp(index).date()\n",
    "  if index == first:\n",
    "    prev_avg_ganho = row['avg_ganho']\n",
    "    prev_avg_perda = row['avg_perda']\n",
    "  elif index > first:\n",
    "    filterted_data.loc[index,'avg_ganho'] = ((prev_avg_ganho*(periodo-1)) + row['ganho'])/periodo\n",
    "    prev_avg_ganho = filterted_data.loc[index,'avg_ganho']\n",
    "\n",
    "    filterted_data.loc[index,'avg_perda'] = ((prev_avg_perda*(periodo-1)) + row['perda'])/periodo\n",
    "    prev_avg_perda = filterted_data.loc[index,'avg_perda']"
   ]
  },
  {
   "cell_type": "code",
   "execution_count": 27,
   "metadata": {},
   "outputs": [
    {
     "data": {
      "text/html": [
       "<div>\n",
       "<style scoped>\n",
       "    .dataframe tbody tr th:only-of-type {\n",
       "        vertical-align: middle;\n",
       "    }\n",
       "\n",
       "    .dataframe tbody tr th {\n",
       "        vertical-align: top;\n",
       "    }\n",
       "\n",
       "    .dataframe thead th {\n",
       "        text-align: right;\n",
       "    }\n",
       "</style>\n",
       "<table border=\"1\" class=\"dataframe\">\n",
       "  <thead>\n",
       "    <tr style=\"text-align: right;\">\n",
       "      <th></th>\n",
       "      <th>Close</th>\n",
       "      <th>SMA15</th>\n",
       "      <th>SMA50</th>\n",
       "      <th>EMA15</th>\n",
       "      <th>EMA50</th>\n",
       "      <th>Compra</th>\n",
       "      <th>Venda</th>\n",
       "      <th>variacao</th>\n",
       "      <th>ganho</th>\n",
       "      <th>perda</th>\n",
       "      <th>avg_ganho</th>\n",
       "      <th>avg_perda</th>\n",
       "    </tr>\n",
       "  </thead>\n",
       "  <tbody>\n",
       "    <tr>\n",
       "      <th>2020-09-28</th>\n",
       "      <td>421.200012</td>\n",
       "      <td>405.838668</td>\n",
       "      <td>368.600319</td>\n",
       "      <td>411.639802</td>\n",
       "      <td>368.655294</td>\n",
       "      <td>0.0</td>\n",
       "      <td>0.0</td>\n",
       "      <td>13.860016</td>\n",
       "      <td>13.860016</td>\n",
       "      <td>0.000000</td>\n",
       "      <td>11.211417</td>\n",
       "      <td>9.625041</td>\n",
       "    </tr>\n",
       "    <tr>\n",
       "      <th>2020-09-29</th>\n",
       "      <td>419.070007</td>\n",
       "      <td>411.762669</td>\n",
       "      <td>370.409719</td>\n",
       "      <td>412.568578</td>\n",
       "      <td>370.632341</td>\n",
       "      <td>0.0</td>\n",
       "      <td>0.0</td>\n",
       "      <td>-2.130005</td>\n",
       "      <td>0.000000</td>\n",
       "      <td>2.130005</td>\n",
       "      <td>10.410601</td>\n",
       "      <td>9.089682</td>\n",
       "    </tr>\n",
       "    <tr>\n",
       "      <th>2020-09-30</th>\n",
       "      <td>429.010010</td>\n",
       "      <td>415.944670</td>\n",
       "      <td>372.716479</td>\n",
       "      <td>414.623757</td>\n",
       "      <td>372.921662</td>\n",
       "      <td>0.0</td>\n",
       "      <td>0.0</td>\n",
       "      <td>9.940002</td>\n",
       "      <td>9.940002</td>\n",
       "      <td>0.000000</td>\n",
       "      <td>10.376987</td>\n",
       "      <td>8.440419</td>\n",
       "    </tr>\n",
       "    <tr>\n",
       "      <th>2020-10-01</th>\n",
       "      <td>448.160004</td>\n",
       "      <td>421.066003</td>\n",
       "      <td>375.310359</td>\n",
       "      <td>418.815787</td>\n",
       "      <td>375.872185</td>\n",
       "      <td>0.0</td>\n",
       "      <td>0.0</td>\n",
       "      <td>19.149994</td>\n",
       "      <td>19.149994</td>\n",
       "      <td>0.000000</td>\n",
       "      <td>11.003630</td>\n",
       "      <td>7.837531</td>\n",
       "    </tr>\n",
       "    <tr>\n",
       "      <th>0</th>\n",
       "      <td>NaN</td>\n",
       "      <td>NaN</td>\n",
       "      <td>NaN</td>\n",
       "      <td>NaN</td>\n",
       "      <td>NaN</td>\n",
       "      <td>NaN</td>\n",
       "      <td>NaN</td>\n",
       "      <td>NaN</td>\n",
       "      <td>NaN</td>\n",
       "      <td>NaN</td>\n",
       "      <td>NaN</td>\n",
       "      <td>NaN</td>\n",
       "    </tr>\n",
       "  </tbody>\n",
       "</table>\n",
       "</div>"
      ],
      "text/plain": [
       "                 Close       SMA15       SMA50       EMA15       EMA50  \\\n",
       "2020-09-28  421.200012  405.838668  368.600319  411.639802  368.655294   \n",
       "2020-09-29  419.070007  411.762669  370.409719  412.568578  370.632341   \n",
       "2020-09-30  429.010010  415.944670  372.716479  414.623757  372.921662   \n",
       "2020-10-01  448.160004  421.066003  375.310359  418.815787  375.872185   \n",
       "0                  NaN         NaN         NaN         NaN         NaN   \n",
       "\n",
       "            Compra  Venda   variacao      ganho     perda  avg_ganho  \\\n",
       "2020-09-28     0.0    0.0  13.860016  13.860016  0.000000  11.211417   \n",
       "2020-09-29     0.0    0.0  -2.130005   0.000000  2.130005  10.410601   \n",
       "2020-09-30     0.0    0.0   9.940002   9.940002  0.000000  10.376987   \n",
       "2020-10-01     0.0    0.0  19.149994  19.149994  0.000000  11.003630   \n",
       "0              NaN    NaN        NaN        NaN       NaN        NaN   \n",
       "\n",
       "            avg_perda  \n",
       "2020-09-28   9.625041  \n",
       "2020-09-29   9.089682  \n",
       "2020-09-30   8.440419  \n",
       "2020-10-01   7.837531  \n",
       "0                 NaN  "
      ]
     },
     "execution_count": 27,
     "metadata": {},
     "output_type": "execute_result"
    }
   ],
   "source": [
    "filterted_data.tail()"
   ]
  },
  {
   "cell_type": "markdown",
   "metadata": {},
   "source": [
    "### Calcular RS e RSI"
   ]
  },
  {
   "cell_type": "code",
   "execution_count": 28,
   "metadata": {},
   "outputs": [],
   "source": [
    "# Calcular RS\n",
    "filterted_data[f'RS{periodo}'] = filterted_data['avg_ganho']/filterted_data['avg_perda']"
   ]
  },
  {
   "cell_type": "code",
   "execution_count": 29,
   "metadata": {},
   "outputs": [],
   "source": [
    "# Calcular RSI\n",
    "filterted_data[f'RSI{periodo}'] = 100 - (100/(1 + filterted_data[f'RS{periodo}']))"
   ]
  },
  {
   "cell_type": "code",
   "execution_count": 32,
   "metadata": {},
   "outputs": [
    {
     "data": {
      "text/html": [
       "<div>\n",
       "<style scoped>\n",
       "    .dataframe tbody tr th:only-of-type {\n",
       "        vertical-align: middle;\n",
       "    }\n",
       "\n",
       "    .dataframe tbody tr th {\n",
       "        vertical-align: top;\n",
       "    }\n",
       "\n",
       "    .dataframe thead th {\n",
       "        text-align: right;\n",
       "    }\n",
       "</style>\n",
       "<table border=\"1\" class=\"dataframe\">\n",
       "  <thead>\n",
       "    <tr style=\"text-align: right;\">\n",
       "      <th></th>\n",
       "      <th>RS14</th>\n",
       "      <th>RSI14</th>\n",
       "    </tr>\n",
       "  </thead>\n",
       "  <tbody>\n",
       "    <tr>\n",
       "      <th>2020-09-28</th>\n",
       "      <td>1.164818</td>\n",
       "      <td>53.806730</td>\n",
       "    </tr>\n",
       "    <tr>\n",
       "      <th>2020-09-29</th>\n",
       "      <td>1.145321</td>\n",
       "      <td>53.386925</td>\n",
       "    </tr>\n",
       "    <tr>\n",
       "      <th>2020-09-30</th>\n",
       "      <td>1.229440</td>\n",
       "      <td>55.145684</td>\n",
       "    </tr>\n",
       "    <tr>\n",
       "      <th>2020-10-01</th>\n",
       "      <td>1.403966</td>\n",
       "      <td>58.402080</td>\n",
       "    </tr>\n",
       "    <tr>\n",
       "      <th>0</th>\n",
       "      <td>NaN</td>\n",
       "      <td>NaN</td>\n",
       "    </tr>\n",
       "  </tbody>\n",
       "</table>\n",
       "</div>"
      ],
      "text/plain": [
       "                RS14      RSI14\n",
       "2020-09-28  1.164818  53.806730\n",
       "2020-09-29  1.145321  53.386925\n",
       "2020-09-30  1.229440  55.145684\n",
       "2020-10-01  1.403966  58.402080\n",
       "0                NaN        NaN"
      ]
     },
     "execution_count": 32,
     "metadata": {},
     "output_type": "execute_result"
    }
   ],
   "source": [
    "filterted_data[['RS14','RSI14']].tail()"
   ]
  },
  {
   "cell_type": "code",
   "execution_count": 35,
   "metadata": {},
   "outputs": [
    {
     "data": {
      "image/png": "[encoded data removed]",
      "text/plain": [
       "<Figure size 432x288 with 1 Axes>"
      ]
     },
     "metadata": {
      "needs_background": "light"
     },
     "output_type": "display_data"
    }
   ],
   "source": [
    "fig, ax = plt.subplots()\n",
    "\n",
    "ax.plot(filterted_data.index,filterted_data['RS14'],label = 'RS14')\n",
    "ax.plot(filterted_data.index,filterted_data['RSI14'],label = 'RSI14')\n",
    "\n",
    "#formatar\n",
    "ax.set_ylabel('RSI')\n",
    "ax.set_title('Relative Strength Index (RSI)')\n",
    "ax.legend()\n",
    "\n",
    "fig.autofmt_xdate()"
   ]
  }
 ],
 "metadata": {
  "interpreter": {
   "hash": "8496d2b445649915abcebef0dd9e9e2b63742d2597f6f8114b64b5d149f0e9cd"
  },
  "kernelspec": {
   "display_name": "Python 3.8.3 64-bit ('venv': venv)",
   "language": "python",
   "name": "python3"
  },
  "language_info": {
   "codemirror_mode": {
    "name": "ipython",
    "version": 3
   },
   "file_extension": ".py",
   "mimetype": "text/x-python",
   "name": "python",
   "nbconvert_exporter": "python",
   "pygments_lexer": "ipython3",
   "version": "3.8.3"
  },
  "orig_nbformat": 4
 },
 "nbformat": 4,
 "nbformat_minor": 2
}
