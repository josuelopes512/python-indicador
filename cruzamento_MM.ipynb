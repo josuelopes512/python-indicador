{
 "cells": [
  {
   "cell_type": "code",
   "execution_count": null,
   "metadata": {},
   "outputs": [],
   "source": [
    "import yfinance as yf\n",
    "import matplotlib.pyplot as plt\n",
    "import pandas_datareader as pdr\n",
    "import numpy as np\n",
    "import math as mt\n",
    "import pandas as pd\n",
    "import datetime"
   ]
  },
  {
   "cell_type": "code",
   "execution_count": null,
   "metadata": {},
   "outputs": [],
   "source": [
    "data = pdr.get_data_yahoo('TSLA', start='2016-01-01', end='2020-10-01')"
   ]
  },
  {
   "cell_type": "code",
   "execution_count": null,
   "metadata": {},
   "outputs": [],
   "source": [
    "data.columns"
   ]
  },
  {
   "cell_type": "code",
   "execution_count": null,
   "metadata": {},
   "outputs": [],
   "source": [
    "def crossover_sinal(data, curto=15, longo=50):\n",
    "    data[f'SMA{curto}'] = data['Close'].rolling(curto).mean()\n",
    "    data[f'SMA{longo}'] = data['Close'].rolling(longo).mean()\n",
    "\n",
    "    data['Anterior'] = data[f'SMA{curto}'].shift(1) - data[f'SMA{longo}'].shift(1)\n",
    "    data['Atual'] = data[f'SMA{curto}'] - data[f'SMA{longo}']\n",
    "\n",
    "    data.loc[(data['Anterior']<0) & (data['Atual']>0), 'Compra'] = data['Close']\n",
    "    data.loc[(data['Anterior']>0) & (data['Atual']<0), 'Venda'] = data['Close']\n",
    "\n",
    "    data.loc[(data['Compra'].isna()),'Compra'] = 0\n",
    "    data.loc[0,'Compra'] = np.NaN\n",
    "\n",
    "    data.loc[(data['Venda'].isna()),'Venda'] = 0\n",
    "    data.loc[0,'Venda'] = np.NaN\n",
    "\n",
    "    columns = ['Close', f'SMA{curto}', f'SMA{longo}', 'Compra', 'Venda']\n",
    "    return data[columns]"
   ]
  },
  {
   "cell_type": "code",
   "execution_count": null,
   "metadata": {},
   "outputs": [],
   "source": [
    "output_df = crossover_sinal(data)\n",
    "output_df.tail()"
   ]
  },
  {
   "cell_type": "code",
   "execution_count": null,
   "metadata": {},
   "outputs": [],
   "source": [
    "start = pd.to_datetime(\"2019-01-01\").date()\n",
    "end = pd.to_datetime(\"2020-12-01\").date()"
   ]
  },
  {
   "cell_type": "code",
   "execution_count": null,
   "metadata": {},
   "outputs": [],
   "source": [
    "filterted_data = output_df.copy()\n",
    "filterted_data.index = [pd.Timestamp(i).date() for i in filterted_data.index]\n",
    "a = (filterted_data.index >= start)&(filterted_data.index < end)\n",
    "\n",
    "filterted_data = filterted_data.loc[a]\n"
   ]
  },
  {
   "cell_type": "code",
   "execution_count": null,
   "metadata": {},
   "outputs": [],
   "source": [
    "filterted_data"
   ]
  },
  {
   "cell_type": "code",
   "execution_count": null,
   "metadata": {},
   "outputs": [],
   "source": [
    "fig, ax = plt.subplots()\n",
    "ax.plot(filterted_data.index, filterted_data['Close'], label='Close', alpha=0.5)\n",
    "ax.plot(filterted_data.index, filterted_data['SMA15'], label='SMA15', color='orange')\n",
    "ax.plot(filterted_data.index, filterted_data['SMA50'], label='SMA50', color='brown')\n",
    "\n",
    "ax.scatter(filterted_data.index, filterted_data['Compra'], marker='^', label='Compra', color='green')\n",
    "ax.scatter(filterted_data.index, filterted_data['Venda'], marker='v', label='Venda', color='red')\n",
    "\n",
    "fig.autofmt_xdate()\n",
    "ax.legend()\n",
    "\n",
    "ax.yaxis.set_major_formatter('${x:}')\n",
    "ax.set_title('Médias Moveis')\n",
    "ax.set_xlabel('Data')\n"
   ]
  },
  {
   "cell_type": "code",
   "execution_count": null,
   "metadata": {},
   "outputs": [],
   "source": [
    "filterted_data"
   ]
  }
 ],
 "metadata": {
  "interpreter": {
   "hash": "8496d2b445649915abcebef0dd9e9e2b63742d2597f6f8114b64b5d149f0e9cd"
  },
  "kernelspec": {
   "display_name": "Python 3.8.3 64-bit ('venv': venv)",
   "language": "python",
   "name": "python3"
  },
  "language_info": {
   "codemirror_mode": {
    "name": "ipython",
    "version": 3
   },
   "file_extension": ".py",
   "mimetype": "text/x-python",
   "name": "python",
   "nbconvert_exporter": "python",
   "pygments_lexer": "ipython3",
   "version": "3.8.3"
  },
  "orig_nbformat": 4
 },
 "nbformat": 4,
 "nbformat_minor": 2
}
